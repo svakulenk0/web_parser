{
 "cells": [
  {
   "cell_type": "code",
   "execution_count": 1,
   "metadata": {},
   "outputs": [
    {
     "name": "stdout",
     "output_type": "stream",
     "text": [
      "https://mashable.com/2017/11/17/facebook-tags-test-top-10-goats/?europe=true\n",
      "Facebook is working to figure out how to show its users more stuff, especially stuff related to their interests from places that they might not follow.\n",
      "\n",
      "This is how I stumbled upon the best Facebook page ever: https://www.facebook.com/look/goat\n",
      "\n",
      "OK, that's not technically true. Moshe Isaacian, a friend of one of our reporters, showed it to us, but it is now my favorite page. I love goats, and I love that Facebook might finally be figuring out a way to show me stuff I like as opposed to, you know, Russian propaganda.\n",
      "\n",
      "The goat page appears to be part of a larger test of a new type of tag on Facebook. (The page was titled \"Top 10 goat posts on Facebook.\" Indeed.) On the page, there's other tags you can click on that take you to other such pages. I was too scared to click on goat meat, as I love goats too much for that.\n",
      "\n",
      "Image: Facebook screenshot\n",
      "\n",
      "The top left tag, however, was \"cow tripe\" and I'm game for that. The button, when clicked, took me to a cow tripe page that was mostly recipes. From there, the top left tag was... \"barf.\"\n",
      "\n",
      "I took a deep breath and clicked. It wasn't as bad as you'd think. There was a post from Tosh.0 for a caption challenge for a barf bench, a video about farting and barfing, a post from Cosmopolitan featuring a man removing a large ingrown hair with the prompt \"try not to barf forever.\"\n",
      "\n",
      "This was instructive as it shows how this new-fangled tagging system works, at least for now. Both the goat and barf pages had posts not about those topics with posts that used those words in non-essential ways. One was from the New England Patriots, correctly using GOAT (greatest of all time) in reference to quarterback Tom Brady. The other wasn't about barf, but had a post that used barf to illustrate grossness.\n",
      "\n",
      "It's not clear just what this feature is. It might be called \"Look,\" but trimming the url to Facebook.com/Look results in an error page. Facebook did not immediately respond to a request for comment.\n",
      "\n",
      "That's a good chance this is one of Facebook's many \"tests,\" in which they roll out a new feature to a small number of people to see how it performs. There's a good chance we'll never see this feature again.\n",
      "\n",
      "What it does, however, is instructive to where Facebook is headed. The massive social network is in the midst of a shift away from the past few years when it aggressively embraced media companies and showed a lot of their content in its News Feed. Now, Facebook has been reducing how much publishers appear and showing more content related to groups.\n",
      "\n",
      "Facebook has been experimenting with new versions of the traditional News Feed. It recently launched Facebook Explore, a tab that exclusively shows posts from Facebook Pages the user does not follow. Facebook also tested two feeds, one without posts from Pages, in six markets.\n",
      "\n",
      "Facebook Explore is a place where people see content from Pages they don't necessarily follow but may fit their interests. That's what I saw on the goat page—content from a bunch of places, none of which I follow, but found enjoyable.\n",
      "\n",
      "The test also appears to be limited in terms of topics. While there's a goat page, there's no facebook.com/look/puppies, much to the disappointment of Mashable business reporter Kerry Flynn.\n",
      "\n",
      "Perhaps Facebook is just now rolling out tagging as a way to improve its system's capabilities for combing the vast amount of content posted on Facebook every day and delivering of-interest stuff to users.\n",
      "\n",
      "Or maybe, they just love goats. As they should.\n",
      "\n",
      "Also, just because, here's a compilation of goats that sound like humans screaming.\n",
      "\n",
      "Kerry Flynn also contributed to this story.\n"
     ]
    }
   ],
   "source": [
    "import json\n",
    "import requests\n",
    "import urllib.parse\n",
    "from newspaper import Article\n",
    "\n",
    "url = \"https://mashable.com/2017/11/17/facebook-tags-test-top-10-goats/?europe=true\"\n",
    "\n",
    "url = urllib.parse.unquote(url)\n",
    "print(url)\n",
    "a = Article(url, language='en')\n",
    "try:\n",
    "    a.download()\n",
    "    a.parse()\n",
    "    title = a.title\n",
    "    text = a.text\n",
    "except:\n",
    "    pass\n",
    "\n",
    "\n",
    "print(text)"
   ]
  },
  {
   "cell_type": "code",
   "execution_count": 4,
   "metadata": {},
   "outputs": [
    {
     "name": "stdout",
     "output_type": "stream",
     "text": [
      "Facebook is working to figure out how to show its users more stuff, especially stuff related to their interests from places that they might not follow.\n",
      "This is how I stumbled upon the best Facebook page ever: https://www.facebook.com/look/goat\n",
      "OK, that's not technically true. Moshe Isaacian, a friend of one of our reporters, showed it to us, but it is now my favorite page. I love goats, and I love that Facebook might finally be figuring out a way to show me stuff I like as opposed to, you know, Russian propaganda.\n",
      "The goat page appears to be part of a larger test of a new type of tag on Facebook. (The page was titled \"Top 10 goat posts on Facebook.\" Indeed.) On the page, there's other tags you can click on that take you to other such pages. I was too scared to click on goat meat, as I love goats too much for that.\n",
      "Image: Facebook screenshot\n",
      "The top left tag, however, was \"cow tripe\" and I'm game for that. The button, when clicked, took me to a cow tripe page that was mostly recipes. From there, the top left tag was... \"barf.\"\n",
      "I took a deep breath and clicked. It wasn't as bad as you'd think. There was a post from Tosh.0 for a caption challenge for a barf bench, a video about farting and barfing, a post from Cosmopolitan featuring a man removing a large ingrown hair with the prompt \"try not to barf forever.\"\n",
      "This was instructive as it shows how this new-fangled tagging system works, at least for now. Both the goat and barf pages had posts not about those topics with posts that used those words in non-essential ways. One was from the New England Patriots, correctly using GOAT (greatest of all time) in reference to quarterback Tom Brady. The other wasn't about barf, but had a post that used barf to illustrate grossness.\n",
      "It's not clear just what this feature is. It might be called \"Look,\" but trimming the url to Facebook.com/Look results in an error page. Facebook did not immediately respond to a request for comment.\n",
      "That's a good chance this is one of Facebook's many \"tests,\" in which they roll out a new feature to a small number of people to see how it performs. There's a good chance we'll never see this feature again.\n",
      "What it does, however, is instructive to where Facebook is headed. The massive social network is in the midst of a shift away from the past few years when it aggressively embraced media companies and showed a lot of their content in its News Feed. Now, Facebook has been reducing how much publishers appear and showing more content related to groups.\n",
      "Facebook has been experimenting with new versions of the traditional News Feed. It recently launched Facebook Explore, a tab that exclusively shows posts from Facebook Pages the user does not follow. Facebook also tested two feeds, one without posts from Pages, in six markets.\n",
      "Facebook Explore is a place where people see content from Pages they don't necessarily follow but may fit their interests. That's what I saw on the goat page—content from a bunch of places, none of which I follow, but found enjoyable.\n",
      "The test also appears to be limited in terms of topics. While there's a goat page, there's no facebook.com/look/puppies, much to the disappointment of Mashable business reporter Kerry Flynn.\n",
      "Perhaps Facebook is just now rolling out tagging as a way to improve its system's capabilities for combing the vast amount of content posted on Facebook every day and delivering of-interest stuff to users.\n",
      "Or maybe, they just love goats. As they should.\n",
      "Also, just because, here's a compilation of goats that sound like humans screaming.\n",
      "Kerry Flynn also contributed to this story.\n"
     ]
    }
   ],
   "source": [
    "# collect paragraphs\n",
    "paragraphs = [p for p in text.split('\\n') if p]\n",
    "\n",
    "for p in paragraphs:\n",
    "    print(p)"
   ]
  },
  {
   "cell_type": "code",
   "execution_count": null,
   "metadata": {},
   "outputs": [],
   "source": []
  }
 ],
 "metadata": {
  "kernelspec": {
   "display_name": "text_analysis",
   "language": "python",
   "name": "text_analysis"
  },
  "language_info": {
   "codemirror_mode": {
    "name": "ipython",
    "version": 3
   },
   "file_extension": ".py",
   "mimetype": "text/x-python",
   "name": "python",
   "nbconvert_exporter": "python",
   "pygments_lexer": "ipython3",
   "version": "3.6.9"
  }
 },
 "nbformat": 4,
 "nbformat_minor": 2
}
